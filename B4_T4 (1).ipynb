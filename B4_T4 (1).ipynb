{
 "cells": [
  {
   "cell_type": "code",
   "execution_count": 372,
   "id": "35d824e5",
   "metadata": {},
   "outputs": [],
   "source": [
    "import numpy as np\n",
    "import pandas as pd\n",
    "import matplotlib.pyplot as plt\n",
    "import seaborn as sns\n",
    "import warnings\n"
   ]
  },
  {
   "cell_type": "code",
   "execution_count": 373,
   "id": "461f9fc6",
   "metadata": {},
   "outputs": [],
   "source": [
    "data1=pd.read_excel(r\"C:\\Users\\Tejes\\OneDrive\\Desktop\\IOT_Intrusion_Dataset.xlsx\")"
   ]
  },
  {
   "cell_type": "code",
   "execution_count": 374,
   "id": "5e7f2d0f",
   "metadata": {},
   "outputs": [
    {
     "data": {
      "text/html": [
       "<div>\n",
       "<style scoped>\n",
       "    .dataframe tbody tr th:only-of-type {\n",
       "        vertical-align: middle;\n",
       "    }\n",
       "\n",
       "    .dataframe tbody tr th {\n",
       "        vertical-align: top;\n",
       "    }\n",
       "\n",
       "    .dataframe thead th {\n",
       "        text-align: right;\n",
       "    }\n",
       "</style>\n",
       "<table border=\"1\" class=\"dataframe\">\n",
       "  <thead>\n",
       "    <tr style=\"text-align: right;\">\n",
       "      <th></th>\n",
       "      <th>Fwd_IAT_Max</th>\n",
       "      <th>Bwd_IAT_Max</th>\n",
       "      <th>PSH_Flag_Cnt</th>\n",
       "      <th>Pkt_Size_Avg</th>\n",
       "      <th>Fwd_Seg_Size_Avg</th>\n",
       "      <th>Bwd_Seg_Size_Avg</th>\n",
       "      <th>Subflow_Fwd_Pkts</th>\n",
       "      <th>Subflow_Fwd_Byts</th>\n",
       "      <th>Subflow_Bwd_Pkts</th>\n",
       "      <th>Subflow_Bwd_Byts</th>\n",
       "      <th>Active_Max</th>\n",
       "      <th>Idle_Max</th>\n",
       "      <th>Label</th>\n",
       "      <th>Cat</th>\n",
       "    </tr>\n",
       "  </thead>\n",
       "  <tbody>\n",
       "    <tr>\n",
       "      <th>0</th>\n",
       "      <td>0</td>\n",
       "      <td>0</td>\n",
       "      <td>0</td>\n",
       "      <td>1921.000000</td>\n",
       "      <td>982.0</td>\n",
       "      <td>1430.000000</td>\n",
       "      <td>1</td>\n",
       "      <td>982</td>\n",
       "      <td>1</td>\n",
       "      <td>1430</td>\n",
       "      <td>0</td>\n",
       "      <td>75</td>\n",
       "      <td>Anomaly</td>\n",
       "      <td>Mirai</td>\n",
       "    </tr>\n",
       "    <tr>\n",
       "      <th>1</th>\n",
       "      <td>0</td>\n",
       "      <td>5310</td>\n",
       "      <td>0</td>\n",
       "      <td>0.000000</td>\n",
       "      <td>0.0</td>\n",
       "      <td>0.000000</td>\n",
       "      <td>1</td>\n",
       "      <td>0</td>\n",
       "      <td>2</td>\n",
       "      <td>0</td>\n",
       "      <td>0</td>\n",
       "      <td>4254</td>\n",
       "      <td>Anomaly</td>\n",
       "      <td>DoS</td>\n",
       "    </tr>\n",
       "    <tr>\n",
       "      <th>2</th>\n",
       "      <td>0</td>\n",
       "      <td>71</td>\n",
       "      <td>0</td>\n",
       "      <td>1398.000000</td>\n",
       "      <td>0.0</td>\n",
       "      <td>935.333333</td>\n",
       "      <td>0</td>\n",
       "      <td>0</td>\n",
       "      <td>3</td>\n",
       "      <td>2806</td>\n",
       "      <td>0</td>\n",
       "      <td>71</td>\n",
       "      <td>Anomaly</td>\n",
       "      <td>Scan</td>\n",
       "    </tr>\n",
       "    <tr>\n",
       "      <th>3</th>\n",
       "      <td>0</td>\n",
       "      <td>151</td>\n",
       "      <td>0</td>\n",
       "      <td>2082.000000</td>\n",
       "      <td>0.0</td>\n",
       "      <td>1388.000000</td>\n",
       "      <td>0</td>\n",
       "      <td>0</td>\n",
       "      <td>2</td>\n",
       "      <td>2776</td>\n",
       "      <td>0</td>\n",
       "      <td>151</td>\n",
       "      <td>Anomaly</td>\n",
       "      <td>Mirai</td>\n",
       "    </tr>\n",
       "    <tr>\n",
       "      <th>4</th>\n",
       "      <td>76</td>\n",
       "      <td>0</td>\n",
       "      <td>0</td>\n",
       "      <td>575.333333</td>\n",
       "      <td>443.0</td>\n",
       "      <td>420.000000</td>\n",
       "      <td>2</td>\n",
       "      <td>886</td>\n",
       "      <td>1</td>\n",
       "      <td>420</td>\n",
       "      <td>0</td>\n",
       "      <td>77</td>\n",
       "      <td>Anomaly</td>\n",
       "      <td>Mirai</td>\n",
       "    </tr>\n",
       "  </tbody>\n",
       "</table>\n",
       "</div>"
      ],
      "text/plain": [
       "   Fwd_IAT_Max  Bwd_IAT_Max  PSH_Flag_Cnt  Pkt_Size_Avg  Fwd_Seg_Size_Avg  \\\n",
       "0            0            0             0   1921.000000             982.0   \n",
       "1            0         5310             0      0.000000               0.0   \n",
       "2            0           71             0   1398.000000               0.0   \n",
       "3            0          151             0   2082.000000               0.0   \n",
       "4           76            0             0    575.333333             443.0   \n",
       "\n",
       "   Bwd_Seg_Size_Avg  Subflow_Fwd_Pkts  Subflow_Fwd_Byts  Subflow_Bwd_Pkts  \\\n",
       "0       1430.000000                 1               982                 1   \n",
       "1          0.000000                 1                 0                 2   \n",
       "2        935.333333                 0                 0                 3   \n",
       "3       1388.000000                 0                 0                 2   \n",
       "4        420.000000                 2               886                 1   \n",
       "\n",
       "   Subflow_Bwd_Byts  Active_Max  Idle_Max    Label    Cat  \n",
       "0              1430           0        75  Anomaly  Mirai  \n",
       "1                 0           0      4254  Anomaly    DoS  \n",
       "2              2806           0        71  Anomaly   Scan  \n",
       "3              2776           0       151  Anomaly  Mirai  \n",
       "4               420           0        77  Anomaly  Mirai  "
      ]
     },
     "execution_count": 374,
     "metadata": {},
     "output_type": "execute_result"
    }
   ],
   "source": [
    "data1.head()"
   ]
  },
  {
   "cell_type": "code",
   "execution_count": 375,
   "id": "fdc501d7",
   "metadata": {},
   "outputs": [
    {
     "data": {
      "text/html": [
       "<div>\n",
       "<style scoped>\n",
       "    .dataframe tbody tr th:only-of-type {\n",
       "        vertical-align: middle;\n",
       "    }\n",
       "\n",
       "    .dataframe tbody tr th {\n",
       "        vertical-align: top;\n",
       "    }\n",
       "\n",
       "    .dataframe thead th {\n",
       "        text-align: right;\n",
       "    }\n",
       "</style>\n",
       "<table border=\"1\" class=\"dataframe\">\n",
       "  <thead>\n",
       "    <tr style=\"text-align: right;\">\n",
       "      <th></th>\n",
       "      <th>Fwd_IAT_Max</th>\n",
       "      <th>Bwd_IAT_Max</th>\n",
       "      <th>PSH_Flag_Cnt</th>\n",
       "      <th>Pkt_Size_Avg</th>\n",
       "      <th>Fwd_Seg_Size_Avg</th>\n",
       "      <th>Bwd_Seg_Size_Avg</th>\n",
       "      <th>Subflow_Fwd_Pkts</th>\n",
       "      <th>Subflow_Fwd_Byts</th>\n",
       "      <th>Subflow_Bwd_Pkts</th>\n",
       "      <th>Subflow_Bwd_Byts</th>\n",
       "      <th>Active_Max</th>\n",
       "      <th>Idle_Max</th>\n",
       "      <th>Label</th>\n",
       "      <th>Cat</th>\n",
       "    </tr>\n",
       "  </thead>\n",
       "  <tbody>\n",
       "    <tr>\n",
       "      <th>2994</th>\n",
       "      <td>0</td>\n",
       "      <td>78</td>\n",
       "      <td>0</td>\n",
       "      <td>0.0</td>\n",
       "      <td>0.0</td>\n",
       "      <td>0.0</td>\n",
       "      <td>0</td>\n",
       "      <td>0</td>\n",
       "      <td>2</td>\n",
       "      <td>0</td>\n",
       "      <td>0</td>\n",
       "      <td>78</td>\n",
       "      <td>Normal</td>\n",
       "      <td>Normal</td>\n",
       "    </tr>\n",
       "    <tr>\n",
       "      <th>2995</th>\n",
       "      <td>0</td>\n",
       "      <td>9325</td>\n",
       "      <td>0</td>\n",
       "      <td>0.0</td>\n",
       "      <td>0.0</td>\n",
       "      <td>0.0</td>\n",
       "      <td>0</td>\n",
       "      <td>0</td>\n",
       "      <td>2</td>\n",
       "      <td>0</td>\n",
       "      <td>0</td>\n",
       "      <td>9325</td>\n",
       "      <td>Anomaly</td>\n",
       "      <td>DoS</td>\n",
       "    </tr>\n",
       "    <tr>\n",
       "      <th>2996</th>\n",
       "      <td>73</td>\n",
       "      <td>0</td>\n",
       "      <td>0</td>\n",
       "      <td>0.0</td>\n",
       "      <td>0.0</td>\n",
       "      <td>0.0</td>\n",
       "      <td>4</td>\n",
       "      <td>0</td>\n",
       "      <td>1</td>\n",
       "      <td>0</td>\n",
       "      <td>0</td>\n",
       "      <td>73</td>\n",
       "      <td>Anomaly</td>\n",
       "      <td>Mirai</td>\n",
       "    </tr>\n",
       "    <tr>\n",
       "      <th>2997</th>\n",
       "      <td>0</td>\n",
       "      <td>85</td>\n",
       "      <td>0</td>\n",
       "      <td>2082.0</td>\n",
       "      <td>0.0</td>\n",
       "      <td>1388.0</td>\n",
       "      <td>0</td>\n",
       "      <td>0</td>\n",
       "      <td>2</td>\n",
       "      <td>2776</td>\n",
       "      <td>0</td>\n",
       "      <td>85</td>\n",
       "      <td>Anomaly</td>\n",
       "      <td>MITM ARP Spoofing</td>\n",
       "    </tr>\n",
       "    <tr>\n",
       "      <th>2998</th>\n",
       "      <td>0</td>\n",
       "      <td>72</td>\n",
       "      <td>0</td>\n",
       "      <td>2082.0</td>\n",
       "      <td>0.0</td>\n",
       "      <td>1388.0</td>\n",
       "      <td>0</td>\n",
       "      <td>0</td>\n",
       "      <td>2</td>\n",
       "      <td>2776</td>\n",
       "      <td>0</td>\n",
       "      <td>72</td>\n",
       "      <td>Anomaly</td>\n",
       "      <td>Mirai</td>\n",
       "    </tr>\n",
       "  </tbody>\n",
       "</table>\n",
       "</div>"
      ],
      "text/plain": [
       "      Fwd_IAT_Max  Bwd_IAT_Max  PSH_Flag_Cnt  Pkt_Size_Avg  Fwd_Seg_Size_Avg  \\\n",
       "2994            0           78             0           0.0               0.0   \n",
       "2995            0         9325             0           0.0               0.0   \n",
       "2996           73            0             0           0.0               0.0   \n",
       "2997            0           85             0        2082.0               0.0   \n",
       "2998            0           72             0        2082.0               0.0   \n",
       "\n",
       "      Bwd_Seg_Size_Avg  Subflow_Fwd_Pkts  Subflow_Fwd_Byts  Subflow_Bwd_Pkts  \\\n",
       "2994               0.0                 0                 0                 2   \n",
       "2995               0.0                 0                 0                 2   \n",
       "2996               0.0                 4                 0                 1   \n",
       "2997            1388.0                 0                 0                 2   \n",
       "2998            1388.0                 0                 0                 2   \n",
       "\n",
       "      Subflow_Bwd_Byts  Active_Max  Idle_Max    Label                Cat  \n",
       "2994                 0           0        78   Normal             Normal  \n",
       "2995                 0           0      9325  Anomaly                DoS  \n",
       "2996                 0           0        73  Anomaly              Mirai  \n",
       "2997              2776           0        85  Anomaly  MITM ARP Spoofing  \n",
       "2998              2776           0        72  Anomaly              Mirai  "
      ]
     },
     "execution_count": 375,
     "metadata": {},
     "output_type": "execute_result"
    }
   ],
   "source": [
    "data1.tail()"
   ]
  },
  {
   "cell_type": "code",
   "execution_count": 376,
   "id": "29cb1ad0",
   "metadata": {},
   "outputs": [
    {
     "name": "stdout",
     "output_type": "stream",
     "text": [
      "<class 'pandas.core.frame.DataFrame'>\n",
      "RangeIndex: 2999 entries, 0 to 2998\n",
      "Data columns (total 14 columns):\n",
      " #   Column            Non-Null Count  Dtype  \n",
      "---  ------            --------------  -----  \n",
      " 0   Fwd_IAT_Max       2999 non-null   int64  \n",
      " 1   Bwd_IAT_Max       2999 non-null   int64  \n",
      " 2   PSH_Flag_Cnt      2999 non-null   int64  \n",
      " 3   Pkt_Size_Avg      2999 non-null   float64\n",
      " 4   Fwd_Seg_Size_Avg  2999 non-null   float64\n",
      " 5   Bwd_Seg_Size_Avg  2999 non-null   float64\n",
      " 6   Subflow_Fwd_Pkts  2999 non-null   int64  \n",
      " 7   Subflow_Fwd_Byts  2999 non-null   int64  \n",
      " 8   Subflow_Bwd_Pkts  2999 non-null   int64  \n",
      " 9   Subflow_Bwd_Byts  2999 non-null   int64  \n",
      " 10  Active_Max        2999 non-null   int64  \n",
      " 11  Idle_Max          2999 non-null   int64  \n",
      " 12  Label             2999 non-null   object \n",
      " 13  Cat               2999 non-null   object \n",
      "dtypes: float64(3), int64(9), object(2)\n",
      "memory usage: 328.1+ KB\n"
     ]
    }
   ],
   "source": [
    "data1.info()"
   ]
  },
  {
   "cell_type": "code",
   "execution_count": 377,
   "id": "d85f2694",
   "metadata": {},
   "outputs": [
    {
     "data": {
      "text/plain": [
       "(2999, 14)"
      ]
     },
     "execution_count": 377,
     "metadata": {},
     "output_type": "execute_result"
    }
   ],
   "source": [
    "data1.shape"
   ]
  },
  {
   "cell_type": "code",
   "execution_count": 378,
   "id": "35d8bb23",
   "metadata": {},
   "outputs": [
    {
     "data": {
      "text/plain": [
       "Fwd_IAT_Max         0\n",
       "Bwd_IAT_Max         0\n",
       "PSH_Flag_Cnt        0\n",
       "Pkt_Size_Avg        0\n",
       "Fwd_Seg_Size_Avg    0\n",
       "Bwd_Seg_Size_Avg    0\n",
       "Subflow_Fwd_Pkts    0\n",
       "Subflow_Fwd_Byts    0\n",
       "Subflow_Bwd_Pkts    0\n",
       "Subflow_Bwd_Byts    0\n",
       "Active_Max          0\n",
       "Idle_Max            0\n",
       "Label               0\n",
       "Cat                 0\n",
       "dtype: int64"
      ]
     },
     "execution_count": 378,
     "metadata": {},
     "output_type": "execute_result"
    }
   ],
   "source": [
    "data1.isna().sum()"
   ]
  },
  {
   "cell_type": "code",
   "execution_count": 379,
   "id": "213b9880",
   "metadata": {},
   "outputs": [],
   "source": [
    "# No Null Values Found !"
   ]
  },
  {
   "cell_type": "markdown",
   "id": "f751bbf6",
   "metadata": {},
   "source": [
    "# Label encoding the categorical features"
   ]
  },
  {
   "cell_type": "code",
   "execution_count": 380,
   "id": "3660d809",
   "metadata": {},
   "outputs": [
    {
     "data": {
      "text/plain": [
       "Index(['Fwd_IAT_Max', 'Bwd_IAT_Max', 'PSH_Flag_Cnt', 'Pkt_Size_Avg',\n",
       "       'Fwd_Seg_Size_Avg', 'Bwd_Seg_Size_Avg', 'Subflow_Fwd_Pkts',\n",
       "       'Subflow_Fwd_Byts', 'Subflow_Bwd_Pkts', 'Subflow_Bwd_Byts',\n",
       "       'Active_Max', 'Idle_Max', 'Label', 'Cat'],\n",
       "      dtype='object')"
      ]
     },
     "execution_count": 380,
     "metadata": {},
     "output_type": "execute_result"
    }
   ],
   "source": [
    "data1.columns"
   ]
  },
  {
   "cell_type": "code",
   "execution_count": 381,
   "id": "5f08bc0d",
   "metadata": {},
   "outputs": [],
   "source": [
    "from sklearn import preprocessing\n",
    "label_encoder=preprocessing.LabelEncoder()\n",
    "data1['Label']=label_encoder.fit_transform(data1['Label'])\n",
    "data1['Cat']=label_encoder.fit_transform(data1['Cat'])"
   ]
  },
  {
   "cell_type": "code",
   "execution_count": 382,
   "id": "76a9196e",
   "metadata": {},
   "outputs": [
    {
     "data": {
      "text/plain": [
       "pandas.core.frame.DataFrame"
      ]
     },
     "execution_count": 382,
     "metadata": {},
     "output_type": "execute_result"
    }
   ],
   "source": [
    "type(data1)"
   ]
  },
  {
   "cell_type": "markdown",
   "id": "c130fbf2",
   "metadata": {},
   "source": [
    "# Binary Classification using 'Label' as column to classify anomaly/normal"
   ]
  },
  {
   "cell_type": "code",
   "execution_count": 383,
   "id": "84125337",
   "metadata": {},
   "outputs": [
    {
     "data": {
      "text/plain": [
       "<AxesSubplot:>"
      ]
     },
     "execution_count": 383,
     "metadata": {},
     "output_type": "execute_result"
    },
    {
     "data": {
      "image/png": "[encoded data removed]",
      "text/plain": [
       "<Figure size 1152x576 with 2 Axes>"
      ]
     },
     "metadata": {
      "needs_background": "light"
     },
     "output_type": "display_data"
    }
   ],
   "source": [
    "corrematrix=data1.corr()\n",
    "plt.subplots(figsize=(16,8))\n",
    "sns.heatmap(corrematrix,vmin=-0.3,vmax=0.98,annot=True,linewidth=0.2)"
   ]
  },
  {
   "cell_type": "code",
   "execution_count": 384,
   "id": "102fa351",
   "metadata": {},
   "outputs": [
    {
     "data": {
      "text/html": [
       "<div>\n",
       "<style scoped>\n",
       "    .dataframe tbody tr th:only-of-type {\n",
       "        vertical-align: middle;\n",
       "    }\n",
       "\n",
       "    .dataframe tbody tr th {\n",
       "        vertical-align: top;\n",
       "    }\n",
       "\n",
       "    .dataframe thead th {\n",
       "        text-align: right;\n",
       "    }\n",
       "</style>\n",
       "<table border=\"1\" class=\"dataframe\">\n",
       "  <thead>\n",
       "    <tr style=\"text-align: right;\">\n",
       "      <th></th>\n",
       "      <th>Fwd_IAT_Max</th>\n",
       "      <th>Bwd_IAT_Max</th>\n",
       "      <th>Pkt_Size_Avg</th>\n",
       "      <th>Fwd_Seg_Size_Avg</th>\n",
       "      <th>Bwd_Seg_Size_Avg</th>\n",
       "      <th>Subflow_Fwd_Byts</th>\n",
       "      <th>Subflow_Bwd_Pkts</th>\n",
       "      <th>Subflow_Bwd_Byts</th>\n",
       "      <th>Active_Max</th>\n",
       "      <th>Idle_Max</th>\n",
       "      <th>Label</th>\n",
       "    </tr>\n",
       "  </thead>\n",
       "  <tbody>\n",
       "    <tr>\n",
       "      <th>0</th>\n",
       "      <td>0</td>\n",
       "      <td>0</td>\n",
       "      <td>1921.000000</td>\n",
       "      <td>982.0</td>\n",
       "      <td>1430.000000</td>\n",
       "      <td>982</td>\n",
       "      <td>1</td>\n",
       "      <td>1430</td>\n",
       "      <td>0</td>\n",
       "      <td>75</td>\n",
       "      <td>0</td>\n",
       "    </tr>\n",
       "    <tr>\n",
       "      <th>1</th>\n",
       "      <td>0</td>\n",
       "      <td>5310</td>\n",
       "      <td>0.000000</td>\n",
       "      <td>0.0</td>\n",
       "      <td>0.000000</td>\n",
       "      <td>0</td>\n",
       "      <td>2</td>\n",
       "      <td>0</td>\n",
       "      <td>0</td>\n",
       "      <td>4254</td>\n",
       "      <td>0</td>\n",
       "    </tr>\n",
       "    <tr>\n",
       "      <th>2</th>\n",
       "      <td>0</td>\n",
       "      <td>71</td>\n",
       "      <td>1398.000000</td>\n",
       "      <td>0.0</td>\n",
       "      <td>935.333333</td>\n",
       "      <td>0</td>\n",
       "      <td>3</td>\n",
       "      <td>2806</td>\n",
       "      <td>0</td>\n",
       "      <td>71</td>\n",
       "      <td>0</td>\n",
       "    </tr>\n",
       "    <tr>\n",
       "      <th>3</th>\n",
       "      <td>0</td>\n",
       "      <td>151</td>\n",
       "      <td>2082.000000</td>\n",
       "      <td>0.0</td>\n",
       "      <td>1388.000000</td>\n",
       "      <td>0</td>\n",
       "      <td>2</td>\n",
       "      <td>2776</td>\n",
       "      <td>0</td>\n",
       "      <td>151</td>\n",
       "      <td>0</td>\n",
       "    </tr>\n",
       "    <tr>\n",
       "      <th>4</th>\n",
       "      <td>76</td>\n",
       "      <td>0</td>\n",
       "      <td>575.333333</td>\n",
       "      <td>443.0</td>\n",
       "      <td>420.000000</td>\n",
       "      <td>886</td>\n",
       "      <td>1</td>\n",
       "      <td>420</td>\n",
       "      <td>0</td>\n",
       "      <td>77</td>\n",
       "      <td>0</td>\n",
       "    </tr>\n",
       "    <tr>\n",
       "      <th>...</th>\n",
       "      <td>...</td>\n",
       "      <td>...</td>\n",
       "      <td>...</td>\n",
       "      <td>...</td>\n",
       "      <td>...</td>\n",
       "      <td>...</td>\n",
       "      <td>...</td>\n",
       "      <td>...</td>\n",
       "      <td>...</td>\n",
       "      <td>...</td>\n",
       "      <td>...</td>\n",
       "    </tr>\n",
       "    <tr>\n",
       "      <th>2994</th>\n",
       "      <td>0</td>\n",
       "      <td>78</td>\n",
       "      <td>0.000000</td>\n",
       "      <td>0.0</td>\n",
       "      <td>0.000000</td>\n",
       "      <td>0</td>\n",
       "      <td>2</td>\n",
       "      <td>0</td>\n",
       "      <td>0</td>\n",
       "      <td>78</td>\n",
       "      <td>1</td>\n",
       "    </tr>\n",
       "    <tr>\n",
       "      <th>2995</th>\n",
       "      <td>0</td>\n",
       "      <td>9325</td>\n",
       "      <td>0.000000</td>\n",
       "      <td>0.0</td>\n",
       "      <td>0.000000</td>\n",
       "      <td>0</td>\n",
       "      <td>2</td>\n",
       "      <td>0</td>\n",
       "      <td>0</td>\n",
       "      <td>9325</td>\n",
       "      <td>0</td>\n",
       "    </tr>\n",
       "    <tr>\n",
       "      <th>2996</th>\n",
       "      <td>73</td>\n",
       "      <td>0</td>\n",
       "      <td>0.000000</td>\n",
       "      <td>0.0</td>\n",
       "      <td>0.000000</td>\n",
       "      <td>0</td>\n",
       "      <td>1</td>\n",
       "      <td>0</td>\n",
       "      <td>0</td>\n",
       "      <td>73</td>\n",
       "      <td>0</td>\n",
       "    </tr>\n",
       "    <tr>\n",
       "      <th>2997</th>\n",
       "      <td>0</td>\n",
       "      <td>85</td>\n",
       "      <td>2082.000000</td>\n",
       "      <td>0.0</td>\n",
       "      <td>1388.000000</td>\n",
       "      <td>0</td>\n",
       "      <td>2</td>\n",
       "      <td>2776</td>\n",
       "      <td>0</td>\n",
       "      <td>85</td>\n",
       "      <td>0</td>\n",
       "    </tr>\n",
       "    <tr>\n",
       "      <th>2998</th>\n",
       "      <td>0</td>\n",
       "      <td>72</td>\n",
       "      <td>2082.000000</td>\n",
       "      <td>0.0</td>\n",
       "      <td>1388.000000</td>\n",
       "      <td>0</td>\n",
       "      <td>2</td>\n",
       "      <td>2776</td>\n",
       "      <td>0</td>\n",
       "      <td>72</td>\n",
       "      <td>0</td>\n",
       "    </tr>\n",
       "  </tbody>\n",
       "</table>\n",
       "<p>2999 rows × 11 columns</p>\n",
       "</div>"
      ],
      "text/plain": [
       "      Fwd_IAT_Max  Bwd_IAT_Max  Pkt_Size_Avg  Fwd_Seg_Size_Avg  \\\n",
       "0               0            0   1921.000000             982.0   \n",
       "1               0         5310      0.000000               0.0   \n",
       "2               0           71   1398.000000               0.0   \n",
       "3               0          151   2082.000000               0.0   \n",
       "4              76            0    575.333333             443.0   \n",
       "...           ...          ...           ...               ...   \n",
       "2994            0           78      0.000000               0.0   \n",
       "2995            0         9325      0.000000               0.0   \n",
       "2996           73            0      0.000000               0.0   \n",
       "2997            0           85   2082.000000               0.0   \n",
       "2998            0           72   2082.000000               0.0   \n",
       "\n",
       "      Bwd_Seg_Size_Avg  Subflow_Fwd_Byts  Subflow_Bwd_Pkts  Subflow_Bwd_Byts  \\\n",
       "0          1430.000000               982                 1              1430   \n",
       "1             0.000000                 0                 2                 0   \n",
       "2           935.333333                 0                 3              2806   \n",
       "3          1388.000000                 0                 2              2776   \n",
       "4           420.000000               886                 1               420   \n",
       "...                ...               ...               ...               ...   \n",
       "2994          0.000000                 0                 2                 0   \n",
       "2995          0.000000                 0                 2                 0   \n",
       "2996          0.000000                 0                 1                 0   \n",
       "2997       1388.000000                 0                 2              2776   \n",
       "2998       1388.000000                 0                 2              2776   \n",
       "\n",
       "      Active_Max  Idle_Max  Label  \n",
       "0              0        75      0  \n",
       "1              0      4254      0  \n",
       "2              0        71      0  \n",
       "3              0       151      0  \n",
       "4              0        77      0  \n",
       "...          ...       ...    ...  \n",
       "2994           0        78      1  \n",
       "2995           0      9325      0  \n",
       "2996           0        73      0  \n",
       "2997           0        85      0  \n",
       "2998           0        72      0  \n",
       "\n",
       "[2999 rows x 11 columns]"
      ]
     },
     "execution_count": 384,
     "metadata": {},
     "output_type": "execute_result"
    }
   ],
   "source": [
    "# dropping features which have least correlation\n",
    "data1=data1.drop(['PSH_Flag_Cnt','Cat','Subflow_Fwd_Pkts'],axis=1)\n",
    "data1"
   ]
  },
  {
   "cell_type": "code",
   "execution_count": 385,
   "id": "2feecbd5",
   "metadata": {},
   "outputs": [
    {
     "data": {
      "text/plain": [
       "Fwd_IAT_Max           int64\n",
       "Bwd_IAT_Max           int64\n",
       "Pkt_Size_Avg        float64\n",
       "Fwd_Seg_Size_Avg    float64\n",
       "Bwd_Seg_Size_Avg    float64\n",
       "Subflow_Fwd_Byts      int64\n",
       "Subflow_Bwd_Pkts      int64\n",
       "Subflow_Bwd_Byts      int64\n",
       "Active_Max            int64\n",
       "Idle_Max              int64\n",
       "Label                 int32\n",
       "dtype: object"
      ]
     },
     "execution_count": 385,
     "metadata": {},
     "output_type": "execute_result"
    }
   ],
   "source": [
    "data1.dtypes"
   ]
  },
  {
   "cell_type": "code",
   "execution_count": 386,
   "id": "879a591e",
   "metadata": {},
   "outputs": [
    {
     "data": {
      "image/png": "[encoded data removed]",
      "text/plain": [
       "<Figure size 1440x1152 with 1 Axes>"
      ]
     },
     "metadata": {
      "needs_background": "light"
     },
     "output_type": "display_data"
    }
   ],
   "source": [
    "# Handling Outliers\n",
    "graph=data1.select_dtypes(include=['float64','int64','int32'])\n",
    "graph.boxplot(figsize=(20,16))\n",
    "plt.show()"
   ]
  },
  {
   "cell_type": "code",
   "execution_count": 387,
   "id": "4afe4cef",
   "metadata": {},
   "outputs": [
    {
     "name": "stdout",
     "output_type": "stream",
     "text": [
      "Fwd_IAT_Max         623\n",
      "Bwd_IAT_Max         341\n",
      "Pkt_Size_Avg          0\n",
      "Fwd_Seg_Size_Avg      0\n",
      "Bwd_Seg_Size_Avg      0\n",
      "Subflow_Fwd_Byts     75\n",
      "Subflow_Bwd_Pkts     59\n",
      "Subflow_Bwd_Byts     86\n",
      "Active_Max          110\n",
      "Idle_Max            383\n",
      "Label               178\n",
      "dtype: int64\n"
     ]
    }
   ],
   "source": [
    "# Handling Outliers \n",
    "Q1=data1.quantile(.25)\n",
    "Q3=data1.quantile(.75)\n",
    "IQR=Q3-Q1\n",
    "print(((data1<Q1-1.5*IQR)|(data1>Q3+1.5*IQR)).sum())"
   ]
  },
  {
   "cell_type": "code",
   "execution_count": 388,
   "id": "e71dc32a",
   "metadata": {},
   "outputs": [
    {
     "name": "stdout",
     "output_type": "stream",
     "text": [
      "0.0 0.0 6.0\n",
      "-9.0 15.0\n"
     ]
    }
   ],
   "source": [
    "Q1=np.percentile(data1['Fwd_IAT_Max'],25,interpolation='midpoint')\n",
    "Q2=np.percentile(data1['Fwd_IAT_Max'],50,interpolation='midpoint')\n",
    "Q3=np.percentile(data1['Fwd_IAT_Max'],75,interpolation='midpoint')\n",
    "print(Q1,Q2,Q3)\n",
    "#Computation of IQR,lower limit and upper limit\n",
    "IQR=Q3-Q1\n",
    "ll=Q1-1.5*IQR\n",
    "ul=Q3+1.5*IQR\n",
    "print(ll,ul)\n",
    "#Identifying outlier values\n",
    "outliers=[]\n",
    "for x in data1['Fwd_IAT_Max']:\n",
    "    if (x>ul)or(x<ll):\n",
    "        outliers.append(x)\n",
    "ind=data1['Fwd_IAT_Max']>ul\n",
    "i=data1.loc[ind].index\n",
    "data1.drop(i,inplace=True)"
   ]
  },
  {
   "cell_type": "code",
   "execution_count": 389,
   "id": "b9be7010",
   "metadata": {},
   "outputs": [
    {
     "name": "stdout",
     "output_type": "stream",
     "text": [
      "0.0 0.0 119.0\n",
      "-178.5 297.5\n"
     ]
    }
   ],
   "source": [
    "Q1=np.percentile(data1['Bwd_IAT_Max'],25,interpolation='midpoint')\n",
    "Q2=np.percentile(data1['Bwd_IAT_Max'],50,interpolation='midpoint')\n",
    "Q3=np.percentile(data1['Bwd_IAT_Max'],75,interpolation='midpoint')\n",
    "print(Q1,Q2,Q3)\n",
    "#Computation of IQR,lower limit and upper limit\n",
    "IQR=Q3-Q1\n",
    "ll=Q1-1.5*IQR\n",
    "ul=Q3+1.5*IQR\n",
    "print(ll,ul)\n",
    "#Identifying outlier values\n",
    "outliers=[]\n",
    "for x in data1['Bwd_IAT_Max']:\n",
    "    if (x>ul)or(x<ll):\n",
    "        outliers.append(x)\n",
    "ind=data1['Bwd_IAT_Max']>ul\n",
    "i=data1.loc[ind].index\n",
    "data1.drop(i,inplace=True)"
   ]
  },
  {
   "cell_type": "code",
   "execution_count": 390,
   "id": "cfe96d37",
   "metadata": {},
   "outputs": [
    {
     "name": "stdout",
     "output_type": "stream",
     "text": [
      "0.0 32.0 987.0\n",
      "-1480.5 2467.5\n"
     ]
    }
   ],
   "source": [
    "Q1=np.percentile(data1['Subflow_Fwd_Byts'],25,interpolation='midpoint')\n",
    "Q2=np.percentile(data1['Subflow_Fwd_Byts'],50,interpolation='midpoint')\n",
    "Q3=np.percentile(data1['Subflow_Fwd_Byts'],75,interpolation='midpoint')\n",
    "print(Q1,Q2,Q3)\n",
    "#Computation of IQR,lower limit and upper limit\n",
    "IQR=Q3-Q1\n",
    "ll=Q1-1.5*IQR\n",
    "ul=Q3+1.5*IQR\n",
    "print(ll,ul)\n",
    "#Identifying outlier values\n",
    "outliers=[]\n",
    "for x in data1['Subflow_Fwd_Byts']:\n",
    "    if (x>ul)or(x<ll):\n",
    "        outliers.append(x)\n",
    "ind=data1['Subflow_Fwd_Byts']>ul\n",
    "i=data1.loc[ind].index\n",
    "data1.drop(i,inplace=True)"
   ]
  },
  {
   "cell_type": "code",
   "execution_count": 391,
   "id": "c5be7338",
   "metadata": {},
   "outputs": [
    {
     "name": "stdout",
     "output_type": "stream",
     "text": [
      "72.0 85.0 127.0\n",
      "-10.5 209.5\n"
     ]
    }
   ],
   "source": [
    "Q1=np.percentile(data1['Idle_Max'],25,interpolation='midpoint')\n",
    "Q2=np.percentile(data1['Idle_Max'],50,interpolation='midpoint')\n",
    "Q3=np.percentile(data1['Idle_Max'],75,interpolation='midpoint')\n",
    "print(Q1,Q2,Q3)\n",
    "#Computation of IQR,lower limit and upper limit\n",
    "IQR=Q3-Q1\n",
    "ll=Q1-1.5*IQR\n",
    "ul=Q3+1.5*IQR\n",
    "print(ll,ul)\n",
    "#Identifying outlier values\n",
    "outliers=[]\n",
    "for x in data1['Idle_Max']:\n",
    "    if (x>ul)or(x<ll):\n",
    "        outliers.append(x)\n",
    "ind=data1['Idle_Max']>ul\n",
    "i=data1.loc[ind].index\n",
    "data1.drop(i,inplace=True)"
   ]
  },
  {
   "cell_type": "code",
   "execution_count": 392,
   "id": "8da3616f",
   "metadata": {},
   "outputs": [
    {
     "name": "stdout",
     "output_type": "stream",
     "text": [
      "32.0 1388.0 1448.0\n",
      "-2092.0 3572.0\n"
     ]
    }
   ],
   "source": [
    "Q1=np.percentile(data1['Subflow_Bwd_Byts'],25,interpolation='midpoint')\n",
    "Q2=np.percentile(data1['Subflow_Bwd_Byts'],50,interpolation='midpoint')\n",
    "Q3=np.percentile(data1['Subflow_Bwd_Byts'],75,interpolation='midpoint')\n",
    "print(Q1,Q2,Q3)\n",
    "#Computation of IQR,lower limit and upper limit\n",
    "IQR=Q3-Q1\n",
    "ll=Q1-1.5*IQR\n",
    "ul=Q3+1.5*IQR\n",
    "print(ll,ul)\n",
    "#Identifying outlier values\n",
    "outliers=[]\n",
    "for x in data1['Subflow_Bwd_Byts']:\n",
    "    if (x>ul)or(x<ll):\n",
    "        outliers.append(x)\n",
    "ind=data1['Subflow_Bwd_Byts']>ul\n",
    "i=data1.loc[ind].index\n",
    "data1.drop(i,inplace=True)"
   ]
  },
  {
   "cell_type": "code",
   "execution_count": 393,
   "id": "0e2b50da",
   "metadata": {},
   "outputs": [
    {
     "data": {
      "text/plain": [
       "<AxesSubplot:>"
      ]
     },
     "execution_count": 393,
     "metadata": {},
     "output_type": "execute_result"
    },
    {
     "data": {
      "image/png": "[encoded data removed]",
      "text/plain": [
       "<Figure size 1440x1080 with 1 Axes>"
      ]
     },
     "metadata": {
      "needs_background": "light"
     },
     "output_type": "display_data"
    }
   ],
   "source": [
    "graph=data1.select_dtypes(include=['int32','float64','int64'])\n",
    "graph.boxplot(figsize=(20,15))"
   ]
  },
  {
   "cell_type": "code",
   "execution_count": 394,
   "id": "648a729b",
   "metadata": {},
   "outputs": [],
   "source": [
    "# Splitting the data for training and testing"
   ]
  },
  {
   "cell_type": "code",
   "execution_count": 395,
   "id": "70b32bac",
   "metadata": {},
   "outputs": [],
   "source": [
    "x=data1.drop('Label',axis=1) #features\n",
    "y=data1['Label'] #targets\n",
    "from sklearn.model_selection import train_test_split\n",
    "x_train,x_test,y_train,y_test=train_test_split(x,y,random_state=42,test_size=0.2)\n"
   ]
  },
  {
   "cell_type": "code",
   "execution_count": 396,
   "id": "d88e1a62",
   "metadata": {},
   "outputs": [],
   "source": [
    "from sklearn.neighbors import KNeighborsClassifier\n",
    "from sklearn.metrics import confusion_matrix,accuracy_score,precision_score,recall_score,f1_score\n",
    "neighbors=np.arange(3,15)\n",
    "acc_values=[]\n",
    "for k in neighbors:\n",
    "    classifier=KNeighborsClassifier(n_neighbors=k,metric='minkowski')\n",
    "    classifier.fit(x_train,y_train)\n",
    "    y_pred=classifier.predict(x_test)\n",
    "    acc=accuracy_score(y_test,y_pred)\n",
    "    acc_values.append(acc)\n",
    "    \n",
    "    \n",
    "    \n"
   ]
  },
  {
   "cell_type": "code",
   "execution_count": 397,
   "id": "5c4215cd",
   "metadata": {},
   "outputs": [
    {
     "data": {
      "text/plain": [
       "[0.986449864498645,\n",
       " 0.983739837398374,\n",
       " 0.981029810298103,\n",
       " 0.983739837398374,\n",
       " 0.983739837398374,\n",
       " 0.983739837398374,\n",
       " 0.983739837398374,\n",
       " 0.983739837398374,\n",
       " 0.983739837398374,\n",
       " 0.983739837398374,\n",
       " 0.983739837398374,\n",
       " 0.983739837398374]"
      ]
     },
     "execution_count": 397,
     "metadata": {},
     "output_type": "execute_result"
    }
   ],
   "source": [
    "acc_values"
   ]
  },
  {
   "cell_type": "code",
   "execution_count": 398,
   "id": "f0efc702",
   "metadata": {},
   "outputs": [
    {
     "data": {
      "text/plain": [
       "[<matplotlib.lines.Line2D at 0x16849898280>]"
      ]
     },
     "execution_count": 398,
     "metadata": {},
     "output_type": "execute_result"
    },
    {
     "data": {
      "image/png": "[encoded data removed]",
      "text/plain": [
       "<Figure size 432x288 with 1 Axes>"
      ]
     },
     "metadata": {
      "needs_background": "light"
     },
     "output_type": "display_data"
    }
   ],
   "source": [
    "plt.plot(neighbors,acc_values,'o-')"
   ]
  },
  {
   "cell_type": "code",
   "execution_count": 399,
   "id": "d49aac02",
   "metadata": {},
   "outputs": [],
   "source": [
    "from sklearn.neighbors import KNeighborsClassifier\n",
    "from sklearn.metrics import confusion_matrix,accuracy_score,precision_score,recall_score,f1_score\n",
    "acc_values=[]\n",
    "neighbors=np.arange(3,15)\n",
    "for k in neighbors:\n",
    "    classifier=KNeighborsClassifier(n_neighbors=2,metric='minkowski')\n",
    "    classifier.fit(x_train,y_train)\n",
    "    y_pred=classifier.predict(x_test)\n",
    "    acc=accuracy_score(y_test,y_pred)\n",
    "    acc_values.append(acc)"
   ]
  },
  {
   "cell_type": "code",
   "execution_count": 400,
   "id": "c89a1e69",
   "metadata": {},
   "outputs": [
    {
     "data": {
      "text/plain": [
       "[0.986449864498645,\n",
       " 0.986449864498645,\n",
       " 0.986449864498645,\n",
       " 0.986449864498645,\n",
       " 0.986449864498645,\n",
       " 0.986449864498645,\n",
       " 0.986449864498645,\n",
       " 0.986449864498645,\n",
       " 0.986449864498645,\n",
       " 0.986449864498645,\n",
       " 0.986449864498645,\n",
       " 0.986449864498645]"
      ]
     },
     "execution_count": 400,
     "metadata": {},
     "output_type": "execute_result"
    }
   ],
   "source": [
    "acc_values"
   ]
  },
  {
   "cell_type": "code",
   "execution_count": 401,
   "id": "65122cbd",
   "metadata": {},
   "outputs": [
    {
     "data": {
      "image/png": "[encoded data removed]",
      "text/plain": [
       "<Figure size 432x288 with 1 Axes>"
      ]
     },
     "metadata": {
      "needs_background": "light"
     },
     "output_type": "display_data"
    }
   ],
   "source": [
    "plt.plot(neighbors,acc_values,'o-')\n",
    "plt.show()"
   ]
  },
  {
   "cell_type": "code",
   "execution_count": 402,
   "id": "abeb747f",
   "metadata": {},
   "outputs": [
    {
     "name": "stdout",
     "output_type": "stream",
     "text": [
      "Accuracy Value is:  0.986449864498645\n",
      "Precision Value is:  0.8278688524590163\n",
      "Recall Value is:  0.6652892561983471\n",
      "F1 Score is:  0.7187928669410151\n"
     ]
    }
   ],
   "source": [
    "print(\"Accuracy Value is: \", accuracy_score(y_test,y_pred))\n",
    "print(\"Precision Value is: \", precision_score(y_test,y_pred,average='macro'))\n",
    "print(\"Recall Value is: \", recall_score(y_test,y_pred,average='macro'))\n",
    "print(\"F1 Score is: \", f1_score(y_test,y_pred,average='macro'))"
   ]
  },
  {
   "cell_type": "code",
   "execution_count": 403,
   "id": "7ce69818",
   "metadata": {},
   "outputs": [
    {
     "data": {
      "text/plain": [
       "0    363\n",
       "1      6\n",
       "Name: Label, dtype: int64"
      ]
     },
     "execution_count": 403,
     "metadata": {},
     "output_type": "execute_result"
    }
   ],
   "source": [
    "y_test.value_counts()"
   ]
  },
  {
   "cell_type": "code",
   "execution_count": 404,
   "id": "72deac8d",
   "metadata": {},
   "outputs": [
    {
     "data": {
      "text/plain": [
       "array([[362,   1],\n",
       "       [  4,   2]], dtype=int64)"
      ]
     },
     "execution_count": 404,
     "metadata": {},
     "output_type": "execute_result"
    }
   ],
   "source": [
    "confusion_matrix(y_test,y_pred)"
   ]
  },
  {
   "cell_type": "markdown",
   "id": "7c3d72a3",
   "metadata": {},
   "source": [
    "# Standard Scalling the Features"
   ]
  },
  {
   "cell_type": "code",
   "execution_count": 405,
   "id": "131bfed9",
   "metadata": {},
   "outputs": [],
   "source": [
    "from sklearn.preprocessing import StandardScaler\n",
    "scaler=StandardScaler()\n",
    "x_train=scaler.fit_transform(x_train)\n",
    "x_test=scaler.transform(x_test)\n",
    "\n"
   ]
  },
  {
   "cell_type": "code",
   "execution_count": 406,
   "id": "71b5a674",
   "metadata": {},
   "outputs": [],
   "source": [
    "# Checking the values of KNN after standard scalling"
   ]
  },
  {
   "cell_type": "code",
   "execution_count": 407,
   "id": "4fca372f",
   "metadata": {},
   "outputs": [],
   "source": [
    "neighbors=np.arange(3,15)\n",
    "acc_values=[]\n",
    "for k in neighbors:\n",
    "    classifier=KNeighborsClassifier(n_neighbors=2,metric='minkowski')\n",
    "    classifier.fit(x_train,y_train)\n",
    "    y_pred=classifier.predict(x_test)\n",
    "    acc=accuracy_score(y_test,y_pred)\n",
    "    acc_values.append(acc)"
   ]
  },
  {
   "cell_type": "code",
   "execution_count": 408,
   "id": "9f6481c1",
   "metadata": {},
   "outputs": [
    {
     "name": "stdout",
     "output_type": "stream",
     "text": [
      "Accuracy Value is:  0.981029810298103\n",
      "Precision Value is:  0.49184782608695654\n",
      "Recall Value is:  0.4986225895316804\n",
      "F1 Score is:  0.49521203830369354\n"
     ]
    }
   ],
   "source": [
    "print(\"Accuracy Value is: \", accuracy_score(y_test,y_pred))\n",
    "print(\"Precision Value is: \", precision_score(y_test,y_pred,average='macro'))\n",
    "print(\"Recall Value is: \", recall_score(y_test,y_pred,average='macro'))\n",
    "print(\"F1 Score is: \", f1_score(y_test,y_pred,average='macro'))"
   ]
  },
  {
   "cell_type": "code",
   "execution_count": 409,
   "id": "933b441c",
   "metadata": {},
   "outputs": [
    {
     "data": {
      "text/plain": [
       "0    363\n",
       "1      6\n",
       "Name: Label, dtype: int64"
      ]
     },
     "execution_count": 409,
     "metadata": {},
     "output_type": "execute_result"
    }
   ],
   "source": [
    "y_test.value_counts()"
   ]
  },
  {
   "cell_type": "code",
   "execution_count": 410,
   "id": "d142f300",
   "metadata": {},
   "outputs": [
    {
     "data": {
      "text/plain": [
       "array([[362,   1],\n",
       "       [  6,   0]], dtype=int64)"
      ]
     },
     "execution_count": 410,
     "metadata": {},
     "output_type": "execute_result"
    }
   ],
   "source": [
    "confusion_matrix(y_test,y_pred)"
   ]
  },
  {
   "cell_type": "code",
   "execution_count": 411,
   "id": "1d84128a",
   "metadata": {},
   "outputs": [],
   "source": [
    "# Logistic Regression Model"
   ]
  },
  {
   "cell_type": "code",
   "execution_count": 412,
   "id": "042923a5",
   "metadata": {},
   "outputs": [],
   "source": [
    "from sklearn.linear_model import LogisticRegression\n",
    "logit=LogisticRegression()\n",
    "logit.fit(x_train,y_train)\n",
    "y_pred=logit.predict(x_test)"
   ]
  },
  {
   "cell_type": "code",
   "execution_count": 413,
   "id": "1c8f1e1d",
   "metadata": {},
   "outputs": [
    {
     "name": "stdout",
     "output_type": "stream",
     "text": [
      "Accuracy Value is:  0.983739837398374\n",
      "Precision Value is:  0.491869918699187\n",
      "Recall Value is:  0.5\n",
      "F1 Score is:  0.4959016393442623\n"
     ]
    }
   ],
   "source": [
    "print(\"Accuracy Value is: \", accuracy_score(y_test,y_pred))\n",
    "print(\"Precision Value is: \", precision_score(y_test,y_pred,average='macro'))\n",
    "print(\"Recall Value is: \", recall_score(y_test,y_pred,average='macro'))\n",
    "print(\"F1 Score is: \", f1_score(y_test,y_pred,average='macro'))"
   ]
  },
  {
   "cell_type": "code",
   "execution_count": 414,
   "id": "cfee1371",
   "metadata": {},
   "outputs": [
    {
     "data": {
      "text/plain": [
       "0    363\n",
       "1      6\n",
       "Name: Label, dtype: int64"
      ]
     },
     "execution_count": 414,
     "metadata": {},
     "output_type": "execute_result"
    }
   ],
   "source": [
    "y_test.value_counts()"
   ]
  },
  {
   "cell_type": "code",
   "execution_count": 415,
   "id": "e2ba4f45",
   "metadata": {},
   "outputs": [
    {
     "data": {
      "text/plain": [
       "array([[363,   0],\n",
       "       [  6,   0]], dtype=int64)"
      ]
     },
     "execution_count": 415,
     "metadata": {},
     "output_type": "execute_result"
    }
   ],
   "source": [
    "confusion_matrix(y_test,y_pred)"
   ]
  },
  {
   "cell_type": "code",
   "execution_count": 416,
   "id": "e98572ef",
   "metadata": {},
   "outputs": [],
   "source": [
    "# Decision Tree Classifier"
   ]
  },
  {
   "cell_type": "code",
   "execution_count": 417,
   "id": "52d32951",
   "metadata": {},
   "outputs": [
    {
     "data": {
      "text/plain": [
       "DecisionTreeClassifier()"
      ]
     },
     "execution_count": 417,
     "metadata": {},
     "output_type": "execute_result"
    }
   ],
   "source": [
    "from sklearn.tree import DecisionTreeClassifier\n",
    "dt_model=DecisionTreeClassifier()\n",
    "dt_model.fit(x_train,y_train)"
   ]
  },
  {
   "cell_type": "code",
   "execution_count": 418,
   "id": "c5439b5d",
   "metadata": {},
   "outputs": [
    {
     "name": "stdout",
     "output_type": "stream",
     "text": [
      "Accuracy Value is:  0.978319783197832\n",
      "Precision Value is:  0.6611570247933884\n",
      "Recall Value is:  0.6611570247933884\n",
      "F1 Score is:  0.6611570247933884\n"
     ]
    }
   ],
   "source": [
    "y_pred=dt_model.predict(x_test)\n",
    "print(\"Accuracy Value is: \", accuracy_score(y_test,y_pred))\n",
    "print(\"Precision Value is: \", precision_score(y_test,y_pred,average='macro'))\n",
    "print(\"Recall Value is: \", recall_score(y_test,y_pred,average='macro'))\n",
    "print(\"F1 Score is: \", f1_score(y_test,y_pred,average='macro'))"
   ]
  },
  {
   "cell_type": "code",
   "execution_count": 419,
   "id": "8d1811f6",
   "metadata": {},
   "outputs": [
    {
     "data": {
      "text/plain": [
       "0    363\n",
       "1      6\n",
       "Name: Label, dtype: int64"
      ]
     },
     "execution_count": 419,
     "metadata": {},
     "output_type": "execute_result"
    }
   ],
   "source": [
    "y_test.value_counts()"
   ]
  },
  {
   "cell_type": "code",
   "execution_count": 420,
   "id": "b4b18a47",
   "metadata": {},
   "outputs": [
    {
     "data": {
      "text/plain": [
       "array([[359,   4],\n",
       "       [  4,   2]], dtype=int64)"
      ]
     },
     "execution_count": 420,
     "metadata": {},
     "output_type": "execute_result"
    }
   ],
   "source": [
    "confusion_matrix(y_test,y_pred)"
   ]
  },
  {
   "cell_type": "code",
   "execution_count": 421,
   "id": "f375c7a0",
   "metadata": {},
   "outputs": [],
   "source": [
    "# Support Vector Machine"
   ]
  },
  {
   "cell_type": "code",
   "execution_count": 422,
   "id": "cb390358",
   "metadata": {},
   "outputs": [],
   "source": [
    "from sklearn.svm import SVC\n",
    "svm_linear=SVC(kernel='linear')"
   ]
  },
  {
   "cell_type": "code",
   "execution_count": 423,
   "id": "e16d8910",
   "metadata": {},
   "outputs": [
    {
     "data": {
      "text/plain": [
       "SVC(kernel='linear')"
      ]
     },
     "execution_count": 423,
     "metadata": {},
     "output_type": "execute_result"
    }
   ],
   "source": [
    "svm_linear.fit(x_train,y_train)"
   ]
  },
  {
   "cell_type": "code",
   "execution_count": 424,
   "id": "4a4950bf",
   "metadata": {},
   "outputs": [],
   "source": [
    "y_pred=svm_linear.predict(x_test)"
   ]
  },
  {
   "cell_type": "code",
   "execution_count": 425,
   "id": "d8af2f97",
   "metadata": {},
   "outputs": [
    {
     "name": "stdout",
     "output_type": "stream",
     "text": [
      "Accuracy Value is:  0.983739837398374\n",
      "Precision Value is:  0.491869918699187\n",
      "Recall Value is:  0.5\n",
      "F1 Score is:  0.4959016393442623\n"
     ]
    }
   ],
   "source": [
    "print(\"Accuracy Value is: \", accuracy_score(y_test,y_pred))\n",
    "print(\"Precision Value is: \", precision_score(y_test,y_pred,average='macro'))\n",
    "print(\"Recall Value is: \", recall_score(y_test,y_pred,average='macro'))\n",
    "print(\"F1 Score is: \", f1_score(y_test,y_pred,average='macro'))"
   ]
  },
  {
   "cell_type": "code",
   "execution_count": 426,
   "id": "cbcb4bdb",
   "metadata": {},
   "outputs": [
    {
     "data": {
      "text/plain": [
       "0    363\n",
       "1      6\n",
       "Name: Label, dtype: int64"
      ]
     },
     "execution_count": 426,
     "metadata": {},
     "output_type": "execute_result"
    }
   ],
   "source": [
    "y_test.value_counts()"
   ]
  },
  {
   "cell_type": "code",
   "execution_count": 427,
   "id": "b23bba31",
   "metadata": {},
   "outputs": [
    {
     "data": {
      "text/plain": [
       "array([[363,   0],\n",
       "       [  6,   0]], dtype=int64)"
      ]
     },
     "execution_count": 427,
     "metadata": {},
     "output_type": "execute_result"
    }
   ],
   "source": [
    "confusion_matrix(y_test,y_pred)"
   ]
  },
  {
   "cell_type": "code",
   "execution_count": 428,
   "id": "77371149",
   "metadata": {},
   "outputs": [],
   "source": [
    "svm_poly=SVC(kernel='poly',degree=3)"
   ]
  },
  {
   "cell_type": "code",
   "execution_count": 429,
   "id": "300106e4",
   "metadata": {},
   "outputs": [
    {
     "data": {
      "text/plain": [
       "SVC(kernel='poly')"
      ]
     },
     "execution_count": 429,
     "metadata": {},
     "output_type": "execute_result"
    }
   ],
   "source": [
    "svm_poly.fit(x_train,y_train)"
   ]
  },
  {
   "cell_type": "code",
   "execution_count": 430,
   "id": "da49756f",
   "metadata": {},
   "outputs": [],
   "source": [
    "y_pred=svm_poly.predict(x_test)"
   ]
  },
  {
   "cell_type": "code",
   "execution_count": 431,
   "id": "7442918c",
   "metadata": {},
   "outputs": [
    {
     "name": "stdout",
     "output_type": "stream",
     "text": [
      "Accuracy Value is:  0.983739837398374\n",
      "Precision Value is:  0.491869918699187\n",
      "Recall Value is:  0.5\n",
      "F1 Score is:  0.4959016393442623\n"
     ]
    }
   ],
   "source": [
    "print(\"Accuracy Value is: \", accuracy_score(y_test,y_pred))\n",
    "print(\"Precision Value is: \", precision_score(y_test,y_pred,average='macro'))\n",
    "print(\"Recall Value is: \", recall_score(y_test,y_pred,average='macro'))\n",
    "print(\"F1 Score is: \", f1_score(y_test,y_pred,average='macro'))"
   ]
  },
  {
   "cell_type": "code",
   "execution_count": 432,
   "id": "3ecc79ae",
   "metadata": {},
   "outputs": [
    {
     "data": {
      "text/plain": [
       "array([[363,   0],\n",
       "       [  6,   0]], dtype=int64)"
      ]
     },
     "execution_count": 432,
     "metadata": {},
     "output_type": "execute_result"
    }
   ],
   "source": [
    "confusion_matrix(y_test,y_pred)"
   ]
  },
  {
   "cell_type": "code",
   "execution_count": 433,
   "id": "543fb764",
   "metadata": {},
   "outputs": [],
   "source": [
    "svm_radial=SVC(kernel='rbf')"
   ]
  },
  {
   "cell_type": "code",
   "execution_count": 434,
   "id": "44e27231",
   "metadata": {},
   "outputs": [
    {
     "data": {
      "text/plain": [
       "SVC()"
      ]
     },
     "execution_count": 434,
     "metadata": {},
     "output_type": "execute_result"
    }
   ],
   "source": [
    "svm_radial.fit(x_train,y_train)"
   ]
  },
  {
   "cell_type": "code",
   "execution_count": 435,
   "id": "52b8f1d0",
   "metadata": {},
   "outputs": [],
   "source": [
    "y_pred=svm_radial.predict(x_test)"
   ]
  },
  {
   "cell_type": "code",
   "execution_count": 436,
   "id": "b225f4de",
   "metadata": {},
   "outputs": [
    {
     "name": "stdout",
     "output_type": "stream",
     "text": [
      "Accuracy Value is:  0.983739837398374\n",
      "Precision Value is:  0.491869918699187\n",
      "Recall Value is:  0.5\n",
      "F1 Score is:  0.4959016393442623\n"
     ]
    }
   ],
   "source": [
    "print(\"Accuracy Value is: \", accuracy_score(y_test,y_pred))\n",
    "print(\"Precision Value is: \", precision_score(y_test,y_pred,average='macro'))\n",
    "print(\"Recall Value is: \", recall_score(y_test,y_pred,average='macro'))\n",
    "print(\"F1 Score is: \", f1_score(y_test,y_pred,average='macro'))"
   ]
  },
  {
   "cell_type": "code",
   "execution_count": 437,
   "id": "a1806d29",
   "metadata": {},
   "outputs": [
    {
     "data": {
      "text/plain": [
       "array([[363,   0],\n",
       "       [  6,   0]], dtype=int64)"
      ]
     },
     "execution_count": 437,
     "metadata": {},
     "output_type": "execute_result"
    }
   ],
   "source": [
    "confusion_matrix(y_test,y_pred)"
   ]
  },
  {
   "cell_type": "code",
   "execution_count": 438,
   "id": "3d4ebe92",
   "metadata": {},
   "outputs": [],
   "source": [
    "# Random Forest"
   ]
  },
  {
   "cell_type": "code",
   "execution_count": 439,
   "id": "f60cf282",
   "metadata": {},
   "outputs": [
    {
     "data": {
      "text/plain": [
       "RandomForestClassifier()"
      ]
     },
     "execution_count": 439,
     "metadata": {},
     "output_type": "execute_result"
    }
   ],
   "source": [
    "from sklearn.ensemble import RandomForestClassifier\n",
    "rf=RandomForestClassifier()\n",
    "rf.fit(x_train,y_train)"
   ]
  },
  {
   "cell_type": "code",
   "execution_count": 440,
   "id": "613adc66",
   "metadata": {},
   "outputs": [],
   "source": [
    "y_pred=rf.predict(x_test)"
   ]
  },
  {
   "cell_type": "code",
   "execution_count": 441,
   "id": "5c34b6e5",
   "metadata": {},
   "outputs": [
    {
     "name": "stdout",
     "output_type": "stream",
     "text": [
      "Accuracy Value is:  0.978319783197832\n",
      "Precision Value is:  0.6611570247933884\n",
      "Recall Value is:  0.6611570247933884\n",
      "F1 Score is:  0.6611570247933884\n"
     ]
    }
   ],
   "source": [
    "print(\"Accuracy Value is: \", accuracy_score(y_test,y_pred))\n",
    "print(\"Precision Value is: \", precision_score(y_test,y_pred,average='macro'))\n",
    "print(\"Recall Value is: \", recall_score(y_test,y_pred,average='macro'))\n",
    "print(\"F1 Score is: \", f1_score(y_test,y_pred,average='macro'))"
   ]
  },
  {
   "cell_type": "code",
   "execution_count": 442,
   "id": "ea193400",
   "metadata": {},
   "outputs": [
    {
     "data": {
      "text/plain": [
       "array([[359,   4],\n",
       "       [  4,   2]], dtype=int64)"
      ]
     },
     "execution_count": 442,
     "metadata": {},
     "output_type": "execute_result"
    }
   ],
   "source": [
    "confusion_matrix(y_test,y_pred)"
   ]
  },
  {
   "cell_type": "code",
   "execution_count": 443,
   "id": "53907778",
   "metadata": {},
   "outputs": [],
   "source": [
    "# Gradient Boosting"
   ]
  },
  {
   "cell_type": "code",
   "execution_count": 444,
   "id": "1807590f",
   "metadata": {},
   "outputs": [],
   "source": [
    "from sklearn.ensemble import GradientBoostingClassifier\n",
    "gb=GradientBoostingClassifier()"
   ]
  },
  {
   "cell_type": "code",
   "execution_count": 445,
   "id": "c8ec36e9",
   "metadata": {},
   "outputs": [
    {
     "data": {
      "text/plain": [
       "GradientBoostingClassifier()"
      ]
     },
     "execution_count": 445,
     "metadata": {},
     "output_type": "execute_result"
    }
   ],
   "source": [
    "gb.fit(x_train,y_train)"
   ]
  },
  {
   "cell_type": "code",
   "execution_count": 446,
   "id": "39dbc74f",
   "metadata": {},
   "outputs": [],
   "source": [
    "y_pred=gb.predict(x_test)"
   ]
  },
  {
   "cell_type": "code",
   "execution_count": 447,
   "id": "36ad3056",
   "metadata": {},
   "outputs": [
    {
     "name": "stdout",
     "output_type": "stream",
     "text": [
      "Accuracy Value is:  0.983739837398374\n",
      "Precision Value is:  0.7445205479452055\n",
      "Recall Value is:  0.6639118457300276\n",
      "F1 Score is:  0.6958791208791208\n"
     ]
    }
   ],
   "source": [
    "print(\"Accuracy Value is: \", accuracy_score(y_test,y_pred))\n",
    "print(\"Precision Value is: \", precision_score(y_test,y_pred,average='macro'))\n",
    "print(\"Recall Value is: \", recall_score(y_test,y_pred,average='macro'))\n",
    "print(\"F1 Score is: \", f1_score(y_test,y_pred,average='macro'))"
   ]
  },
  {
   "cell_type": "code",
   "execution_count": 448,
   "id": "cc474e8c",
   "metadata": {},
   "outputs": [
    {
     "data": {
      "text/plain": [
       "array([[361,   2],\n",
       "       [  4,   2]], dtype=int64)"
      ]
     },
     "execution_count": 448,
     "metadata": {},
     "output_type": "execute_result"
    }
   ],
   "source": [
    "confusion_matrix(y_test,y_pred)"
   ]
  },
  {
   "cell_type": "code",
   "execution_count": 449,
   "id": "1bf24e8a",
   "metadata": {},
   "outputs": [],
   "source": [
    "# #Feature Importance for Random Forest"
   ]
  },
  {
   "cell_type": "code",
   "execution_count": 450,
   "id": "b2489015",
   "metadata": {},
   "outputs": [
    {
     "data": {
      "text/plain": [
       "Idle_Max            47.080908\n",
       "Bwd_IAT_Max         17.334366\n",
       "Pkt_Size_Avg         7.852099\n",
       "Subflow_Bwd_Byts     7.163880\n",
       "Subflow_Bwd_Pkts     6.863869\n",
       "Subflow_Fwd_Byts     4.842808\n",
       "Bwd_Seg_Size_Avg     4.536046\n",
       "Fwd_Seg_Size_Avg     4.319953\n",
       "Fwd_IAT_Max          0.005830\n",
       "Active_Max           0.000240\n",
       "dtype: float64"
      ]
     },
     "execution_count": 450,
     "metadata": {},
     "output_type": "execute_result"
    }
   ],
   "source": [
    "pd.Series(rf.feature_importances_,index=x.columns).sort_values(ascending = False)*100"
   ]
  },
  {
   "cell_type": "code",
   "execution_count": 451,
   "id": "a068e3c9",
   "metadata": {},
   "outputs": [
    {
     "data": {
      "text/plain": [
       "RandomForestClassifier()"
      ]
     },
     "execution_count": 451,
     "metadata": {},
     "output_type": "execute_result"
    }
   ],
   "source": [
    "rf.fit(x_train,y_train)"
   ]
  },
  {
   "cell_type": "code",
   "execution_count": 452,
   "id": "0ded24e2",
   "metadata": {},
   "outputs": [],
   "source": [
    "rf1=RandomForestClassifier(n_estimators=500,max_depth=10,random_state=42,criterion=\"entropy\")"
   ]
  },
  {
   "cell_type": "code",
   "execution_count": 453,
   "id": "e8c52c5e",
   "metadata": {},
   "outputs": [
    {
     "data": {
      "text/plain": [
       "RandomForestClassifier(criterion='entropy', max_depth=10, n_estimators=500,\n",
       "                       random_state=42)"
      ]
     },
     "execution_count": 453,
     "metadata": {},
     "output_type": "execute_result"
    }
   ],
   "source": [
    "rf1.fit(x_train,y_train)"
   ]
  },
  {
   "cell_type": "code",
   "execution_count": 454,
   "id": "6ef69457",
   "metadata": {},
   "outputs": [],
   "source": [
    "y_pred=rf.predict(x_test)"
   ]
  },
  {
   "cell_type": "code",
   "execution_count": 455,
   "id": "6a12874b",
   "metadata": {},
   "outputs": [
    {
     "name": "stdout",
     "output_type": "stream",
     "text": [
      "Accuracy Value is:  0.978319783197832\n",
      "Precision Value is:  0.6611570247933884\n",
      "Recall Value is:  0.6611570247933884\n",
      "F1 Score is:  0.6611570247933884\n"
     ]
    }
   ],
   "source": [
    "print(\"Accuracy Value is: \", accuracy_score(y_test,y_pred))\n",
    "print(\"Precision Value is: \", precision_score(y_test,y_pred,average='macro'))\n",
    "print(\"Recall Value is: \", recall_score(y_test,y_pred,average='macro'))\n",
    "print(\"F1 Score is: \", f1_score(y_test,y_pred,average='macro'))"
   ]
  },
  {
   "cell_type": "markdown",
   "id": "14ae5ded",
   "metadata": {},
   "source": [
    "# Navies Bayes"
   ]
  },
  {
   "cell_type": "code",
   "execution_count": 456,
   "id": "9b2f872f",
   "metadata": {},
   "outputs": [],
   "source": [
    "#Feature scaling\n",
    "x_train = pd.DataFrame(x_train, columns = x.columns)\n",
    "cols = x_train.columns\n",
    "from sklearn.preprocessing import RobustScaler\n",
    "scaler = RobustScaler()\n",
    "x_train = scaler.fit_transform(x_train)\n",
    "x_test = scaler.transform(x_test)\n",
    "x_train = pd.DataFrame(x_train, columns=[cols])        \n",
    "x_test = pd.DataFrame(x_test, columns=[cols])  "
   ]
  },
  {
   "cell_type": "code",
   "execution_count": 457,
   "id": "502ed4ae",
   "metadata": {},
   "outputs": [
    {
     "data": {
      "text/plain": [
       "GaussianNB()"
      ]
     },
     "execution_count": 457,
     "metadata": {},
     "output_type": "execute_result"
    }
   ],
   "source": [
    "#Model training\n",
    "from sklearn.naive_bayes import GaussianNB\n",
    "gnb = GaussianNB()\n",
    "gnb.fit(x_train, y_train)"
   ]
  },
  {
   "cell_type": "code",
   "execution_count": 458,
   "id": "76013151",
   "metadata": {},
   "outputs": [
    {
     "data": {
      "text/plain": [
       "array([1, 1, 1, 1, 0, 1, 0, 1, 1, 1, 1, 1, 1, 1, 1, 0, 1, 1, 1, 1, 1, 1,\n",
       "       1, 1, 1, 1, 1, 1, 1, 1, 1, 0, 1, 1, 1, 0, 1, 1, 1, 1, 1, 1, 1, 1,\n",
       "       1, 1, 1, 1, 1, 1, 1, 1, 0, 1, 0, 1, 1, 0, 1, 1, 1, 1, 1, 1, 1, 1,\n",
       "       0, 1, 1, 1, 0, 1, 1, 1, 1, 0, 1, 1, 1, 1, 1, 1, 1, 1, 1, 1, 1, 1,\n",
       "       1, 0, 0, 1, 1, 0, 1, 1, 1, 1, 1, 1, 1, 1, 1, 1, 1, 0, 1, 1, 1, 1,\n",
       "       1, 1, 1, 0, 1, 1, 0, 1, 0, 1, 1, 1, 1, 0, 0, 0, 1, 1, 1, 0, 1, 1,\n",
       "       1, 0, 1, 1, 1, 1, 1, 0, 1, 0, 1, 1, 1, 1, 1, 0, 1, 1, 1, 1, 1, 1,\n",
       "       1, 1, 1, 0, 1, 1, 1, 1, 1, 1, 0, 1, 1, 1, 0, 1, 1, 1, 1, 1, 1, 1,\n",
       "       1, 1, 1, 1, 1, 1, 1, 1, 0, 1, 1, 1, 0, 0, 1, 1, 1, 1, 1, 1, 1, 0,\n",
       "       0, 1, 0, 1, 0, 1, 1, 0, 1, 1, 1, 1, 1, 0, 1, 1, 1, 1, 1, 1, 1, 1,\n",
       "       1, 1, 1, 1, 0, 1, 0, 1, 1, 1, 0, 1, 1, 1, 1, 1, 1, 1, 1, 0, 1, 1,\n",
       "       1, 1, 0, 1, 1, 1, 1, 1, 1, 0, 1, 1, 1, 1, 1, 1, 1, 1, 1, 0, 1, 1,\n",
       "       1, 1, 1, 1, 1, 0, 1, 1, 1, 0, 0, 1, 1, 1, 1, 0, 0, 1, 1, 1, 1, 1,\n",
       "       1, 1, 1, 0, 0, 1, 1, 1, 1, 1, 1, 1, 0, 0, 1, 1, 1, 1, 1, 1, 1, 1,\n",
       "       1, 1, 1, 0, 1, 0, 1, 0, 1, 1, 1, 1, 1, 1, 1, 1, 1, 1, 0, 1, 1, 1,\n",
       "       1, 1, 1, 1, 1, 1, 1, 0, 0, 1, 1, 1, 1, 1, 1, 0, 1, 0, 1, 0, 1, 1,\n",
       "       1, 1, 1, 1, 1, 1, 1, 1, 1, 1, 1, 0, 1, 0, 1, 1, 1])"
      ]
     },
     "execution_count": 458,
     "metadata": {},
     "output_type": "execute_result"
    }
   ],
   "source": [
    "y_pred = gnb.predict(x_test)\n",
    "y_pred"
   ]
  },
  {
   "cell_type": "code",
   "execution_count": 459,
   "id": "d45b002e",
   "metadata": {},
   "outputs": [
    {
     "name": "stdout",
     "output_type": "stream",
     "text": [
      "Model accuracy score: 0.1924\n"
     ]
    }
   ],
   "source": [
    "#check accuracy score\n",
    "from sklearn.metrics import accuracy_score\n",
    "print('Model accuracy score: {0:0.4f}'. format(accuracy_score(y_test, y_pred)))"
   ]
  },
  {
   "cell_type": "code",
   "execution_count": 460,
   "id": "b2cf0aa5",
   "metadata": {},
   "outputs": [
    {
     "data": {
      "text/plain": [
       "array([1, 0, 1, ..., 1, 1, 1])"
      ]
     },
     "execution_count": 460,
     "metadata": {},
     "output_type": "execute_result"
    }
   ],
   "source": [
    "#compare the train-set and test-set accuracy to check for overfitting.\n",
    "y_pred_train = gnb.predict(x_train)\n",
    "y_pred_train"
   ]
  },
  {
   "cell_type": "code",
   "execution_count": 461,
   "id": "4675e596",
   "metadata": {},
   "outputs": [
    {
     "name": "stdout",
     "output_type": "stream",
     "text": [
      "Confusion matrix\n",
      "\n",
      " [[ 65 298]\n",
      " [  0   6]]\n",
      "\n",
      "True Positives(TP) =  65\n",
      "\n",
      "True Negatives(TN) =  6\n",
      "\n",
      "False Positives(FP) =  298\n",
      "\n",
      "False Negatives(FN) =  0\n"
     ]
    }
   ],
   "source": [
    "#Printing confusion matrix\n",
    "from sklearn.metrics import confusion_matrix\n",
    "\n",
    "cm = confusion_matrix(y_test, y_pred)\n",
    "\n",
    "print('Confusion matrix\\n\\n', cm)\n",
    "\n",
    "print('\\nTrue Positives(TP) = ', cm[0,0])\n",
    "\n",
    "print('\\nTrue Negatives(TN) = ', cm[1,1])\n",
    "\n",
    "print('\\nFalse Positives(FP) = ', cm[0,1])\n",
    "\n",
    "print('\\nFalse Negatives(FN) = ', cm[1,0])"
   ]
  },
  {
   "cell_type": "code",
   "execution_count": 462,
   "id": "71b8f781",
   "metadata": {},
   "outputs": [],
   "source": [
    "TP = cm[0,0]\n",
    "TN = cm[1,1]\n",
    "FP = cm[0,1]\n",
    "FN = cm[1,0]"
   ]
  },
  {
   "cell_type": "code",
   "execution_count": 463,
   "id": "6a313013",
   "metadata": {},
   "outputs": [
    {
     "name": "stdout",
     "output_type": "stream",
     "text": [
      "Classification accuracy : 0.1924\n",
      "Classification error : 0.8076\n"
     ]
    }
   ],
   "source": [
    "# print classification accuracy\n",
    "\n",
    "classification_accuracy = (TP + TN) / float(TP + TN + FP + FN)\n",
    "\n",
    "print('Classification accuracy : {0:0.4f}'.format(classification_accuracy))\n",
    "# print classification error\n",
    "\n",
    "classification_error = (FP + FN) / float(TP + TN + FP + FN)\n",
    "\n",
    "print('Classification error : {0:0.4f}'.format(classification_error))"
   ]
  },
  {
   "cell_type": "code",
   "execution_count": 465,
   "id": "4ffa4348",
   "metadata": {},
   "outputs": [],
   "source": [
    "# findings: i) Objective:To identify anomaly in a IOT sensor network---ie target is anomaly/normal Classification algorithms used i)KNN-accuracy without scaling --98.64% KNN with standard scaling--98.10% ii)Logistic regression model--accuracy=98.37% iii)Decision Tree Classifier-accuracy=97.83% iv)SVM--(linear,polynomial,radial accuracy)=98.37% v)Random forest---accuracy-97.83% vi)Gradient Boosting---accuracy-98.37 vii) Naive Bayes---accuracy-19% Hence can be concluded that KNN without scaling is the best model to suit our purpose.\n",
    "\n"
   ]
  }
 ],
 "metadata": {
  "kernelspec": {
   "display_name": "Python 3 (ipykernel)",
   "language": "python",
   "name": "python3"
  },
  "language_info": {
   "codemirror_mode": {
    "name": "ipython",
    "version": 3
   },
   "file_extension": ".py",
   "mimetype": "text/x-python",
   "name": "python",
   "nbconvert_exporter": "python",
   "pygments_lexer": "ipython3",
   "version": "3.9.7"
  }
 },
 "nbformat": 4,
 "nbformat_minor": 5
}
